{
 "cells": [
  {
   "cell_type": "code",
   "execution_count": 35,
   "metadata": {},
   "outputs": [
    {
     "name": "stdout",
     "output_type": "stream",
     "text": [
      "The autoreload extension is already loaded. To reload it, use:\n",
      "  %reload_ext autoreload\n"
     ]
    }
   ],
   "source": [
    "%load_ext autoreload\n",
    "\n",
    "%autoreload 2\n",
    "\n",
    "%matplotlib inline"
   ]
  },
  {
   "cell_type": "markdown",
   "metadata": {},
   "source": [
    "# Choose 100 positive and 100 negative Samples"
   ]
  },
  {
   "cell_type": "code",
   "execution_count": 36,
   "metadata": {},
   "outputs": [
    {
     "name": "stdout",
     "output_type": "stream",
     "text": [
      "Loaded 22244 positive samples and 22245 negative samples\n",
      "convert: 200\n"
     ]
    }
   ],
   "source": [
    "import os, random, glob\n",
    "dataPath = \"/media/al/0fd62943-862a-40b9-a4db-fe92a880b732/balancedCleandDataSet\"\n",
    "negFolder = os.path.join(dataPath ,  \"negativeSamples\")\n",
    "posFolder = os.path.join(dataPath ,  \"positiveSamples\")\n",
    "allPositives = glob.glob(posFolder + \"/*.pickle\")\n",
    "allNegatives = glob.glob(negFolder + \"/*.pickle\")\n",
    "print('Loaded {} positive samples and {} negative samples'.format(len(allPositives), len(allNegatives)))\n",
    "random.shuffle(allPositives)\n",
    "random.shuffle(allNegatives)\n",
    "toConvert = allPositives[:100]\n",
    "toConvert.extend(allNegatives[:100])\n",
    "print('convert: {}'.format(len(toConvert)))\n"
   ]
  },
  {
   "cell_type": "code",
   "execution_count": 54,
   "metadata": {},
   "outputs": [],
   "source": [
    "import pickle\n",
    "from imageUtils import *\n",
    "import os\n",
    "codec = \"MP4V\"\n",
    "writeTo = '../videoSamples'\n",
    "if not os.path.exists(os.path.join(writeTo, 'negativeSamples')):\n",
    "    os.makedirs(os.path.join(writeTo, 'negativeSamples'))\n",
    "if not os.path.exists(os.path.join(writeTo, 'positiveSamples')):\n",
    "    os.makedirs(os.path.join(writeTo, 'positiveSamples'))\n",
    "\n",
    "for path in toConvert:\n",
    "    with open(path, 'rb') as file:\n",
    "        data = pickle.load(file)['data']\n",
    "        fileName = os.path.basename(os.path.splitext(path)[0]) + \".mp4\"\n",
    "        if 'negativeSamples' in path:\n",
    "            convertSampleToVideo(data, os.path.join(os.path.join(writeTo, 'negativeSamples'), fileName), codec=codec)\n",
    "            os.system(\"ffmpeg -i {} -vcodec libx264 {} -y\".format(fileName, fileName))\n",
    "        else:\n",
    "            convertSampleToVideo(data, os.path.join(os.path.join(writeTo, 'positiveSamples'), fileName), codec=codec)\n",
    "            os.system(\"ffmpeg -i {} -vcodec libx264 {} -y\".format(fileName, fileName))\n",
    "         \n",
    "        "
   ]
  }
 ],
 "metadata": {
  "kernelspec": {
   "display_name": "Python [conda env:MA] *",
   "language": "python",
   "name": "conda-env-MA-py"
  },
  "language_info": {
   "codemirror_mode": {
    "name": "ipython",
    "version": 3
   },
   "file_extension": ".py",
   "mimetype": "text/x-python",
   "name": "python",
   "nbconvert_exporter": "python",
   "pygments_lexer": "ipython3",
   "version": "3.6.7"
  }
 },
 "nbformat": 4,
 "nbformat_minor": 2
}
