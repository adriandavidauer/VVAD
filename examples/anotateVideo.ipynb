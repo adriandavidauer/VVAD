{
 "metadata": {
  "language_info": {
   "codemirror_mode": {
    "name": "ipython",
    "version": 3
   },
   "file_extension": ".py",
   "mimetype": "text/x-python",
   "name": "python",
   "nbconvert_exporter": "python",
   "pygments_lexer": "ipython3",
   "version": "3.7.10-final"
  },
  "orig_nbformat": 2,
  "kernelspec": {
   "name": "python3710jvsc74a57bd0baad5c1c9dce1b47046dce0c939286a63c528c1779903f33a0dd7f8cd0e0a42b",
   "display_name": "Python 3.7.10 64-bit ('vvadlrs3': conda)"
  },
  "metadata": {
   "interpreter": {
    "hash": "baad5c1c9dce1b47046dce0c939286a63c528c1779903f33a0dd7f8cd0e0a42b"
   }
  }
 },
 "nbformat": 4,
 "nbformat_minor": 2,
 "cells": [
  {
   "source": [
    "# Open Video"
   ],
   "cell_type": "markdown",
   "metadata": {}
  },
  {
   "cell_type": "code",
   "execution_count": 2,
   "metadata": {},
   "outputs": [],
   "source": [
    "# can we use a file picker here? That would be fancy"
   ]
  },
  {
   "source": [
    "# Create Samples"
   ],
   "cell_type": "markdown",
   "metadata": {}
  },
  {
   "cell_type": "code",
   "execution_count": 3,
   "metadata": {},
   "outputs": [],
   "source": [
    "# Here I can use what I did in the liveCam.py before"
   ]
  },
  {
   "source": [
    "# Visualize Samples"
   ],
   "cell_type": "markdown",
   "metadata": {}
  },
  {
   "cell_type": "code",
   "execution_count": 4,
   "metadata": {},
   "outputs": [],
   "source": [
    "# Here I want to visualize some samples. Maybe one at random..."
   ]
  },
  {
   "source": [
    "# Anotate Video with prediction"
   ],
   "cell_type": "markdown",
   "metadata": {}
  },
  {
   "cell_type": "code",
   "execution_count": null,
   "metadata": {},
   "outputs": [],
   "source": [
    "# Sum up y for every frame - probably needs some normalization...how to handle the first/last k frames? they will have less predictions... \n",
    "# show summed prediction value as colored boundingbox between 0->red and 1->green? Or show a graph in the video that grows over time."
   ]
  }
 ]
}